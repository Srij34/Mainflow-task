{
 "cells": [
  {
   "cell_type": "code",
   "execution_count": 1,
   "id": "d551fe0d",
   "metadata": {},
   "outputs": [
    {
     "name": "stdout",
     "output_type": "stream",
     "text": [
      "My initial list: [1, 2, 3, 4, 5]\n",
      "After adding an element to the list: [1, 2, 3, 4, 5, 6]\n",
      "After removing an element from the list: [1, 2, 4, 5, 6]\n",
      "Updated list: [10, 2, 4, 5, 6]\n"
     ]
    }
   ],
   "source": [
    "#Creating a list\n",
    "my_list = [1,2,3,4,5]\n",
    "print(\"My initial list:\", my_list)\n",
    "\n",
    "#Adding an element to the list\n",
    "my_list.append(6)\n",
    "print(\"After adding an element to the list:\", my_list)\n",
    "\n",
    "#Removing an element from the list\n",
    "my_list.remove(3)\n",
    "print(\"After removing an element from the list:\", my_list)\n",
    "\n",
    "#Modifying an element in the list\n",
    "my_list[0] = 10\n",
    "print(\"Updated list:\", my_list)"
   ]
  },
  {
   "cell_type": "code",
   "execution_count": 3,
   "id": "ea166b0c",
   "metadata": {},
   "outputs": [
    {
     "name": "stdout",
     "output_type": "stream",
     "text": [
      "Updated Dictionary: {'name': 'Sachin', 'age': 25, 'city': 'Kolkata'}\n",
      "Updated Dictionary: {'name': 'Sachin', 'age': 25, 'city': 'Kolkata', 'gender': 'Male'}\n",
      "Updated Dictionary: {'name': 'Sachin', 'city': 'Kolkata', 'gender': 'Male'}\n",
      "Updated Dictionary: {'name': 'Sachin', 'city': 'Mumbai', 'gender': 'Male'}\n"
     ]
    }
   ],
   "source": [
    "#Creating a dictionary\n",
    "my_dict = {'name': 'Sachin' , 'age': 25 , 'city': 'Kolkata'}\n",
    "print(\"Updated Dictionary:\", my_dict)\n",
    "\n",
    "#Adding an element to the dictionary\n",
    "my_dict['gender'] = 'Male'\n",
    "print(\"Updated Dictionary:\", my_dict)\n",
    "\n",
    "#Removing an element from the dictionary\n",
    "del my_dict['age']\n",
    "print(\"Updated Dictionary:\", my_dict)\n",
    "\n",
    "#Modifying an element in the dictionary\n",
    "my_dict['city'] = 'Mumbai'\n",
    "print(\"Updated Dictionary:\", my_dict)"
   ]
  },
  {
   "cell_type": "code",
   "execution_count": 4,
   "id": "9a3ecdfa",
   "metadata": {},
   "outputs": [
    {
     "name": "stdout",
     "output_type": "stream",
     "text": [
      "Initial Set: {1, 2, 3, 4, 5}\n",
      "Updated set: {1, 2, 3, 4, 5, 6}\n",
      "Updated set: {1, 2, 4, 5, 6}\n",
      "Updated set: {2, 4, 5, 6, 10}\n"
     ]
    }
   ],
   "source": [
    "#Creating a set\n",
    "my_set = {1,2,3,4,5}\n",
    "print(\"Initial Set:\", my_set)\n",
    "\n",
    "#Adding an element to the set\n",
    "my_set.add(6)\n",
    "print(\"Updated set:\", my_set)\n",
    "\n",
    "#Removing an element from the set\n",
    "my_set.remove(3)\n",
    "print(\"Updated set:\", my_set)\n",
    "\n",
    "#Modifying an element in the set\n",
    "my_set.discard(1)\n",
    "my_set.add(10)\n",
    "print(\"Updated set:\", my_set)"
   ]
  },
  {
   "cell_type": "raw",
   "id": "4ff41e5a",
   "metadata": {},
   "source": []
  }
 ],
 "metadata": {
  "kernelspec": {
   "display_name": "Python 3 (ipykernel)",
   "language": "python",
   "name": "python3"
  },
  "language_info": {
   "codemirror_mode": {
    "name": "ipython",
    "version": 3
   },
   "file_extension": ".py",
   "mimetype": "text/x-python",
   "name": "python",
   "nbconvert_exporter": "python",
   "pygments_lexer": "ipython3",
   "version": "3.11.5"
  }
 },
 "nbformat": 4,
 "nbformat_minor": 5
}
